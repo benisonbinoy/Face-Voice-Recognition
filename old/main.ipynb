{
 "cells": [
  {
   "cell_type": "code",
   "execution_count": 5,
   "id": "1168a409",
   "metadata": {},
   "outputs": [],
   "source": [
    "import os\n",
    "from collections import defaultdict\n",
    "import cv2\n",
    "import numpy as np"
   ]
  },
  {
   "cell_type": "code",
   "execution_count": 6,
   "id": "59565ea1",
   "metadata": {},
   "outputs": [],
   "source": [
    "# Dictionary to hold features for each person\n",
    "person_features = defaultdict(list)\n",
    "\n",
    "# Use ORB as the feature extraction technique\n",
    "orb = cv2.ORB_create()\n",
    "\n",
    "# Load person features from face_data folder\n",
    "def load_person_features():\n",
    "    face_data = \"face_data\"\n",
    "    for person_name in os.listdir(face_data):\n",
    "        person_folder = os.path.join(face_data, person_name)\n",
    "        if os.path.isdir(person_folder):\n",
    "            for img_name in os.listdir(person_folder):\n",
    "                img_path = os.path.join(person_folder, img_name)\n",
    "                image = cv2.imread(img_path, cv2.IMREAD_GRAYSCALE)\n",
    "                if image is not None:\n",
    "                    keypoints, descriptors = orb.detectAndCompute(image, None)\n",
    "                    if descriptors is not None:\n",
    "                        person_features[person_name].append(descriptors)\n",
    "    \n",
    "    # Print number of feature sets per person\n",
    "    for person, features in person_features.items():\n",
    "        print(f\"{person}: {len(features)} feature sets found.\")"
   ]
  },
  {
   "cell_type": "code",
   "execution_count": 7,
   "id": "b2ced06a",
   "metadata": {},
   "outputs": [],
   "source": [
    "# Function to recognize a person from a frame\n",
    "def recognize_person(frame):\n",
    "    gray = cv2.cvtColor(frame, cv2.COLOR_BGR2GRAY)\n",
    "    keypoints, descriptors = orb.detectAndCompute(gray, None)\n",
    "    \n",
    "    if descriptors is not None:\n",
    "        bf = cv2.BFMatcher(cv2.NORM_HAMMING, crossCheck=True)\n",
    "        best_match_count = 0\n",
    "        recognized_person = \"Unknown\"\n",
    "        \n",
    "        for person, feature_sets in person_features.items():\n",
    "            for features in feature_sets:\n",
    "                try:\n",
    "                    matches = bf.match(descriptors, features)\n",
    "                    matches = sorted(matches, key=lambda x: x.distance)\n",
    "                    \n",
    "                    if len(matches) > best_match_count:\n",
    "                        best_match_count = len(matches)\n",
    "                        recognized_person = person\n",
    "                except:\n",
    "                    continue\n",
    "        \n",
    "        return recognized_person\n",
    "    \n",
    "    return \"No face detected\""
   ]
  },
  {
   "cell_type": "code",
   "execution_count": 8,
   "id": "be904ebb",
   "metadata": {},
   "outputs": [
    {
     "name": "stdout",
     "output_type": "stream",
     "text": [
      "Benison: 10 feature sets found.\n",
      "Harsh: 10 feature sets found.\n",
      "Nandalal: 10 feature sets found.\n"
     ]
    }
   ],
   "source": [
    "def main():\n",
    "    # Load training data\n",
    "    load_person_features()\n",
    "    \n",
    "    # Initialize webcam\n",
    "    cap = cv2.VideoCapture(0)\n",
    "    \n",
    "    window_name = 'Face Recognition'\n",
    "    cv2.namedWindow(window_name)\n",
    "    \n",
    "    while True:\n",
    "        # Capture frame-by-frame\n",
    "        ret, frame = cap.read()\n",
    "        \n",
    "        if not ret:\n",
    "            print(\"Failed to grab frame\")\n",
    "            break\n",
    "        \n",
    "        # Recognize person in the frame\n",
    "        person_name = recognize_person(frame)\n",
    "        \n",
    "        # Display the person's name on the frame\n",
    "        cv2.putText(frame, person_name, (10, 30), cv2.FONT_HERSHEY_SIMPLEX, 1, (0, 255, 0), 2)\n",
    "        \n",
    "        # Display the resulting frame\n",
    "        cv2.imshow(window_name, frame)\n",
    "        \n",
    "        # Break the loop with 'q' key or if window is closed\n",
    "        if cv2.getWindowProperty(window_name, cv2.WND_PROP_VISIBLE) < 1:\n",
    "            break\n",
    "        if cv2.waitKey(1) & 0xFF == ord('q'):\n",
    "            break\n",
    "    \n",
    "    # When done, release the capture\n",
    "    cap.release()\n",
    "    cv2.destroyAllWindows()\n",
    "\n",
    "if __name__ == \"__main__\":\n",
    "    main()"
   ]
  }
 ],
 "metadata": {
  "kernelspec": {
   "display_name": "Python 3",
   "language": "python",
   "name": "python3"
  },
  "language_info": {
   "codemirror_mode": {
    "name": "ipython",
    "version": 3
   },
   "file_extension": ".py",
   "mimetype": "text/x-python",
   "name": "python",
   "nbconvert_exporter": "python",
   "pygments_lexer": "ipython3",
   "version": "3.12.1"
  }
 },
 "nbformat": 4,
 "nbformat_minor": 5
}
